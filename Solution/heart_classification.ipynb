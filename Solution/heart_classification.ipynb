{
 "cells": [
  {
   "cell_type": "code",
   "execution_count": 2,
   "id": "9147cc1b-f76f-450b-90ca-d169f269c474",
   "metadata": {},
   "outputs": [],
   "source": [
    "import pandas as pd\n",
    "import numpy as np\n",
    "from sklearn.model_selection import train_test_split\n",
    "from sklearn.preprocessing import StandardScaler"
   ]
  },
  {
   "cell_type": "code",
   "execution_count": 3,
   "id": "3a79729e-0daa-4ccc-bc7b-0006ca12fc52",
   "metadata": {},
   "outputs": [],
   "source": [
    "df = pd.read_csv('task_data.csv')\n",
    "\n",
    "X = df[[\n",
    "    'Heart width', 'Lung width','CTR - Cardiothoracic Ratio',\n",
    "    'xx', 'yy', 'xy', 'normalized_diff','Inscribed circle radius',\n",
    "    'Polygon Area Ratio', 'Heart perimeter','Heart area ', 'Lung area'\n",
    "]]\n",
    "\n",
    "y = df['Cardiomegaly']"
   ]
  },
  {
   "cell_type": "code",
   "execution_count": 10,
   "id": "a95a4e9f-8d8d-48df-b41e-03ff66d97450",
   "metadata": {},
   "outputs": [],
   "source": [
    "X_train, X_test, y_train, y_test = train_test_split(\n",
    "    X, y, test_size=0.2, random_state=42,  stratify=y)"
   ]
  },
  {
   "cell_type": "code",
   "execution_count": 11,
   "id": "a81891f2-9eaf-4c6e-b209-e74a4c152ae2",
   "metadata": {},
   "outputs": [],
   "source": [
    "scaler = StandardScaler()\n",
    "\n",
    "X_train = X_train.replace(',', '.', regex=True)\n",
    "X_train = X_train.astype(float)\n",
    "\n",
    "X_test = X_test.replace(',', '.', regex=True)\n",
    "X_train = X_train.astype(float)\n",
    "\n",
    "X_train_scaled = scaler.fit_transform(X_train)\n",
    "X_test_scaled = scaler.transform(X_test)"
   ]
  },
  {
   "cell_type": "code",
   "execution_count": 12,
   "id": "e8b39aa1-f1af-463d-9d9a-afe142860358",
   "metadata": {},
   "outputs": [
    {
     "name": "stdout",
     "output_type": "stream",
     "text": [
      "X_train_scaled: (29, 12)\n",
      "         0         1         2         3         4         5         6   \\\n",
      "0  1.797251  0.314002  1.452867  1.947554 -0.306414  0.360207  1.570675   \n",
      "1  0.084728  0.314002 -0.143100  0.271986 -1.205961  1.369806  1.323166   \n",
      "2 -0.213103 -1.264755  0.626328 -0.270299 -0.780353 -0.502629  0.395920   \n",
      "3  0.792074  1.582646 -0.234888  1.086706 -0.689357 -0.162728  1.380724   \n",
      "4 -1.143822  0.877843 -1.560029 -0.846096 -0.920403 -0.035421 -0.019862   \n",
      "\n",
      "         7         8         9         10        11  \n",
      "0  2.933611  1.147651  0.684946  1.690742 -0.756316  \n",
      "1  0.742864 -0.503944 -0.913314 -0.231241 -0.201757  \n",
      "2 -1.272295  1.235273 -0.851939 -0.873029 -1.732164  \n",
      "3  0.686097 -0.589274 -0.033387  0.296823  1.017731  \n",
      "4 -0.720097 -1.785422 -1.238415 -1.186318  1.175663  \n",
      "X_test_scaled: (8, 12)\n",
      "         0         1         2         3         4         5         6   \\\n",
      "0  1.797251  0.314002  1.452867  1.947554 -0.306414  0.360207  1.570675   \n",
      "1  0.084728  0.314002 -0.143100  0.271986 -1.205961  1.369806  1.323166   \n",
      "2 -0.213103 -1.264755  0.626328 -0.270299 -0.780353 -0.502629  0.395920   \n",
      "3  0.792074  1.582646 -0.234888  1.086706 -0.689357 -0.162728  1.380724   \n",
      "4 -1.143822  0.877843 -1.560029 -0.846096 -0.920403 -0.035421 -0.019862   \n",
      "\n",
      "         7         8         9         10        11  \n",
      "0  2.933611  1.147651  0.684946  1.690742 -0.756316  \n",
      "1  0.742864 -0.503944 -0.913314 -0.231241 -0.201757  \n",
      "2 -1.272295  1.235273 -0.851939 -0.873029 -1.732164  \n",
      "3  0.686097 -0.589274 -0.033387  0.296823  1.017731  \n",
      "4 -0.720097 -1.785422 -1.238415 -1.186318  1.175663  \n"
     ]
    }
   ],
   "source": [
    "print(\"X_train_scaled:\", X_train_scaled.shape)\n",
    "print(pd.DataFrame(X_train_scaled).head())\n",
    "print(\"X_test_scaled:\", X_test_scaled.shape)\n",
    "print(pd.DataFrame(X_train_scaled).head())"
   ]
  },
  {
   "cell_type": "code",
   "execution_count": null,
   "id": "77c367c2-fc27-4331-a36e-537b1021ddb8",
   "metadata": {},
   "outputs": [],
   "source": []
  },
  {
   "cell_type": "code",
   "execution_count": null,
   "id": "45c42526-12c0-4fdb-9d7d-b34989b38440",
   "metadata": {},
   "outputs": [],
   "source": []
  },
  {
   "cell_type": "code",
   "execution_count": null,
   "id": "e9a7c002-2d6b-43cd-87e9-e3a505b6d7a5",
   "metadata": {},
   "outputs": [],
   "source": []
  }
 ],
 "metadata": {
  "kernelspec": {
   "display_name": "Python [conda env:base] *",
   "language": "python",
   "name": "conda-base-py"
  },
  "language_info": {
   "codemirror_mode": {
    "name": "ipython",
    "version": 3
   },
   "file_extension": ".py",
   "mimetype": "text/x-python",
   "name": "python",
   "nbconvert_exporter": "python",
   "pygments_lexer": "ipython3",
   "version": "3.13.5"
  }
 },
 "nbformat": 4,
 "nbformat_minor": 5
}
